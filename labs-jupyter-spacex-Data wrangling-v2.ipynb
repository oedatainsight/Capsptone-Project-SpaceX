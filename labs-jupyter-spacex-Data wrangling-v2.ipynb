{
 "cells": [
  {
   "cell_type": "markdown",
   "id": "610ae4ac-a846-4497-b585-840e91d603aa",
   "metadata": {},
   "source": [
    "<p style=\"text-align:center\">\n",
    "    <a href=\"https://skills.network\" target=\"_blank\">\n",
    "    <img src=\"https://cf-courses-data.s3.us.cloud-object-storage.appdomain.cloud/assets/logos/SN_web_lightmode.png\" width=\"200\" alt=\"Skills Network Logo\">\n",
    "    </a>\n",
    "</p>\n"
   ]
  },
  {
   "cell_type": "markdown",
   "id": "7bb899e0-dc6a-4fa9-9cb3-3a083502c3c3",
   "metadata": {},
   "source": [
    "# **Space X  Falcon 9 First Stage Landing Prediction**\n"
   ]
  },
  {
   "cell_type": "markdown",
   "id": "041e30a7-2b66-46cf-83e4-3244a65de068",
   "metadata": {},
   "source": [
    " ## Lab 2: Data wrangling \n"
   ]
  },
  {
   "cell_type": "markdown",
   "id": "e067aec4-2c79-4ca5-877b-4e9fd885d989",
   "metadata": {},
   "source": [
    "Estimated time needed: **60** minutes\n"
   ]
  },
  {
   "cell_type": "markdown",
   "id": "5960bcf5-903c-4a56-8881-7a1cba2b16e4",
   "metadata": {},
   "source": [
    "In this lab, we will perform some Exploratory Data Analysis (EDA) to find some patterns in the data and determine what would be the label for training supervised models. \n",
    "\n",
    "In the data set, there are several different cases where the booster did not land successfully. Sometimes a landing was attempted but failed due to an accident; for example, <code>True Ocean</code> means the mission outcome was successfully  landed to a specific region of the ocean while <code>False Ocean</code> means the mission outcome was unsuccessfully landed to a specific region of the ocean. <code>True RTLS</code> means the mission outcome was successfully  landed to a ground pad <code>False RTLS</code> means the mission outcome was unsuccessfully landed to a ground pad.<code>True ASDS</code> means the mission outcome was successfully landed on  a drone ship <code>False ASDS</code> means the mission outcome was unsuccessfully landed on a drone ship. \n",
    "\n",
    "In this lab we will mainly convert those outcomes into Training Labels with `1` means the booster successfully landed `0` means it was unsuccessful.\n"
   ]
  },
  {
   "cell_type": "markdown",
   "id": "25fd8cba-7aa5-4e97-bd9e-fafaf208d47f",
   "metadata": {},
   "source": [
    "Falcon 9 first stage will land successfully\n"
   ]
  },
  {
   "cell_type": "markdown",
   "id": "c567f975-2e7f-45be-90b7-1f72d424bd86",
   "metadata": {},
   "source": [
    "![](https://cf-courses-data.s3.us.cloud-object-storage.appdomain.cloud/IBMDeveloperSkillsNetwork-DS0701EN-SkillsNetwork/api/Images/landing_1.gif)\n"
   ]
  },
  {
   "cell_type": "markdown",
   "id": "e0a18818-7e67-4c34-97ab-8ae6f147f06c",
   "metadata": {},
   "source": [
    "Several examples of an unsuccessful landing are shown here:\n"
   ]
  },
  {
   "cell_type": "markdown",
   "id": "96958301-714a-45a4-99ee-4267f31cbdf2",
   "metadata": {},
   "source": [
    "![](https://cf-courses-data.s3.us.cloud-object-storage.appdomain.cloud/IBMDeveloperSkillsNetwork-DS0701EN-SkillsNetwork/api/Images/crash.gif)\n"
   ]
  },
  {
   "cell_type": "markdown",
   "id": "b579d666-7445-4952-959c-3e0db7b9aee7",
   "metadata": {},
   "source": [
    "   \n"
   ]
  },
  {
   "cell_type": "markdown",
   "id": "7732d06d-cc86-49ad-b70f-9fd0e17fdd5d",
   "metadata": {},
   "source": [
    "## Objectives\n",
    "Perform exploratory  Data Analysis and determine Training Labels \n",
    "\n",
    "- Exploratory Data Analysis\n",
    "- Determine Training Labels \n"
   ]
  },
  {
   "cell_type": "markdown",
   "id": "4ae349de-fe5b-4444-b6fb-ab2ed314f829",
   "metadata": {},
   "source": [
    "----\n"
   ]
  },
  {
   "cell_type": "markdown",
   "id": "6f81f4dd-d31f-4fd7-9053-5e095d1cfce4",
   "metadata": {},
   "source": [
    "Install the below libraries\n"
   ]
  },
  {
   "cell_type": "code",
   "execution_count": 1,
   "id": "b042c328-961d-4e5d-8722-c845878dc094",
   "metadata": {},
   "outputs": [
    {
     "name": "stdout",
     "output_type": "stream",
     "text": [
      "Requirement already satisfied: pandas in /opt/anaconda3/lib/python3.12/site-packages (2.2.2)\n",
      "Requirement already satisfied: numpy>=1.26.0 in /opt/anaconda3/lib/python3.12/site-packages (from pandas) (1.26.4)\n",
      "Requirement already satisfied: python-dateutil>=2.8.2 in /opt/anaconda3/lib/python3.12/site-packages (from pandas) (2.9.0.post0)\n",
      "Requirement already satisfied: pytz>=2020.1 in /opt/anaconda3/lib/python3.12/site-packages (from pandas) (2024.1)\n",
      "Requirement already satisfied: tzdata>=2022.7 in /opt/anaconda3/lib/python3.12/site-packages (from pandas) (2023.3)\n",
      "Requirement already satisfied: six>=1.5 in /opt/anaconda3/lib/python3.12/site-packages (from python-dateutil>=2.8.2->pandas) (1.16.0)\n",
      "Requirement already satisfied: numpy in /opt/anaconda3/lib/python3.12/site-packages (1.26.4)\n"
     ]
    }
   ],
   "source": [
    "!pip install pandas\n",
    "!pip install numpy"
   ]
  },
  {
   "cell_type": "markdown",
   "id": "f49faf40-2874-439b-a10d-9edcceb8fc95",
   "metadata": {},
   "source": [
    "## Import Libraries and Define Auxiliary Functions\n"
   ]
  },
  {
   "cell_type": "markdown",
   "id": "67ad5a91-ef45-4fb9-9326-29df99c0ba4e",
   "metadata": {},
   "source": [
    "We will import the following libraries.\n"
   ]
  },
  {
   "cell_type": "code",
   "execution_count": 3,
   "id": "22a3dafd-61af-4d04-a88c-a28b5b46fec5",
   "metadata": {},
   "outputs": [],
   "source": [
    "# Pandas is a software library written for the Python programming language for data manipulation and analysis.\n",
    "import pandas as pd\n",
    "#NumPy is a library for the Python programming language, adding support for large, multi-dimensional arrays and matrices, along with a large collection of high-level mathematical functions to operate on these arrays\n",
    "import numpy as np"
   ]
  },
  {
   "cell_type": "markdown",
   "id": "fe44bbc0-411d-4b9b-8fd9-28c9bf060cb4",
   "metadata": {},
   "source": [
    "### Data Analysis \n"
   ]
  },
  {
   "cell_type": "markdown",
   "id": "a50cb440-1feb-4188-9de0-dd5b63bb777e",
   "metadata": {},
   "source": [
    "Load Space X dataset, from last section.\n"
   ]
  },
  {
   "cell_type": "code",
   "execution_count": 4,
   "id": "3a1046e9-97cd-443f-a7e6-c643c9b5ab7a",
   "metadata": {},
   "outputs": [
    {
     "data": {
      "text/html": [
       "<div>\n",
       "<style scoped>\n",
       "    .dataframe tbody tr th:only-of-type {\n",
       "        vertical-align: middle;\n",
       "    }\n",
       "\n",
       "    .dataframe tbody tr th {\n",
       "        vertical-align: top;\n",
       "    }\n",
       "\n",
       "    .dataframe thead th {\n",
       "        text-align: right;\n",
       "    }\n",
       "</style>\n",
       "<table border=\"1\" class=\"dataframe\">\n",
       "  <thead>\n",
       "    <tr style=\"text-align: right;\">\n",
       "      <th></th>\n",
       "      <th>FlightNumber</th>\n",
       "      <th>Date</th>\n",
       "      <th>BoosterVersion</th>\n",
       "      <th>PayloadMass</th>\n",
       "      <th>Orbit</th>\n",
       "      <th>LaunchSite</th>\n",
       "      <th>Outcome</th>\n",
       "      <th>Flights</th>\n",
       "      <th>GridFins</th>\n",
       "      <th>Reused</th>\n",
       "      <th>Legs</th>\n",
       "      <th>LandingPad</th>\n",
       "      <th>Block</th>\n",
       "      <th>ReusedCount</th>\n",
       "      <th>Serial</th>\n",
       "      <th>Longitude</th>\n",
       "      <th>Latitude</th>\n",
       "    </tr>\n",
       "  </thead>\n",
       "  <tbody>\n",
       "    <tr>\n",
       "      <th>0</th>\n",
       "      <td>1</td>\n",
       "      <td>2010-06-04</td>\n",
       "      <td>Falcon 9</td>\n",
       "      <td>6104.959412</td>\n",
       "      <td>LEO</td>\n",
       "      <td>CCAFS SLC 40</td>\n",
       "      <td>None None</td>\n",
       "      <td>1</td>\n",
       "      <td>False</td>\n",
       "      <td>False</td>\n",
       "      <td>False</td>\n",
       "      <td>NaN</td>\n",
       "      <td>1.0</td>\n",
       "      <td>0</td>\n",
       "      <td>B0003</td>\n",
       "      <td>-80.577366</td>\n",
       "      <td>28.561857</td>\n",
       "    </tr>\n",
       "    <tr>\n",
       "      <th>1</th>\n",
       "      <td>2</td>\n",
       "      <td>2012-05-22</td>\n",
       "      <td>Falcon 9</td>\n",
       "      <td>525.000000</td>\n",
       "      <td>LEO</td>\n",
       "      <td>CCAFS SLC 40</td>\n",
       "      <td>None None</td>\n",
       "      <td>1</td>\n",
       "      <td>False</td>\n",
       "      <td>False</td>\n",
       "      <td>False</td>\n",
       "      <td>NaN</td>\n",
       "      <td>1.0</td>\n",
       "      <td>0</td>\n",
       "      <td>B0005</td>\n",
       "      <td>-80.577366</td>\n",
       "      <td>28.561857</td>\n",
       "    </tr>\n",
       "    <tr>\n",
       "      <th>2</th>\n",
       "      <td>3</td>\n",
       "      <td>2013-03-01</td>\n",
       "      <td>Falcon 9</td>\n",
       "      <td>677.000000</td>\n",
       "      <td>ISS</td>\n",
       "      <td>CCAFS SLC 40</td>\n",
       "      <td>None None</td>\n",
       "      <td>1</td>\n",
       "      <td>False</td>\n",
       "      <td>False</td>\n",
       "      <td>False</td>\n",
       "      <td>NaN</td>\n",
       "      <td>1.0</td>\n",
       "      <td>0</td>\n",
       "      <td>B0007</td>\n",
       "      <td>-80.577366</td>\n",
       "      <td>28.561857</td>\n",
       "    </tr>\n",
       "    <tr>\n",
       "      <th>3</th>\n",
       "      <td>4</td>\n",
       "      <td>2013-09-29</td>\n",
       "      <td>Falcon 9</td>\n",
       "      <td>500.000000</td>\n",
       "      <td>PO</td>\n",
       "      <td>VAFB SLC 4E</td>\n",
       "      <td>False Ocean</td>\n",
       "      <td>1</td>\n",
       "      <td>False</td>\n",
       "      <td>False</td>\n",
       "      <td>False</td>\n",
       "      <td>NaN</td>\n",
       "      <td>1.0</td>\n",
       "      <td>0</td>\n",
       "      <td>B1003</td>\n",
       "      <td>-120.610829</td>\n",
       "      <td>34.632093</td>\n",
       "    </tr>\n",
       "    <tr>\n",
       "      <th>4</th>\n",
       "      <td>5</td>\n",
       "      <td>2013-12-03</td>\n",
       "      <td>Falcon 9</td>\n",
       "      <td>3170.000000</td>\n",
       "      <td>GTO</td>\n",
       "      <td>CCAFS SLC 40</td>\n",
       "      <td>None None</td>\n",
       "      <td>1</td>\n",
       "      <td>False</td>\n",
       "      <td>False</td>\n",
       "      <td>False</td>\n",
       "      <td>NaN</td>\n",
       "      <td>1.0</td>\n",
       "      <td>0</td>\n",
       "      <td>B1004</td>\n",
       "      <td>-80.577366</td>\n",
       "      <td>28.561857</td>\n",
       "    </tr>\n",
       "    <tr>\n",
       "      <th>5</th>\n",
       "      <td>6</td>\n",
       "      <td>2014-01-06</td>\n",
       "      <td>Falcon 9</td>\n",
       "      <td>3325.000000</td>\n",
       "      <td>GTO</td>\n",
       "      <td>CCAFS SLC 40</td>\n",
       "      <td>None None</td>\n",
       "      <td>1</td>\n",
       "      <td>False</td>\n",
       "      <td>False</td>\n",
       "      <td>False</td>\n",
       "      <td>NaN</td>\n",
       "      <td>1.0</td>\n",
       "      <td>0</td>\n",
       "      <td>B1005</td>\n",
       "      <td>-80.577366</td>\n",
       "      <td>28.561857</td>\n",
       "    </tr>\n",
       "    <tr>\n",
       "      <th>6</th>\n",
       "      <td>7</td>\n",
       "      <td>2014-04-18</td>\n",
       "      <td>Falcon 9</td>\n",
       "      <td>2296.000000</td>\n",
       "      <td>ISS</td>\n",
       "      <td>CCAFS SLC 40</td>\n",
       "      <td>True Ocean</td>\n",
       "      <td>1</td>\n",
       "      <td>False</td>\n",
       "      <td>False</td>\n",
       "      <td>True</td>\n",
       "      <td>NaN</td>\n",
       "      <td>1.0</td>\n",
       "      <td>0</td>\n",
       "      <td>B1006</td>\n",
       "      <td>-80.577366</td>\n",
       "      <td>28.561857</td>\n",
       "    </tr>\n",
       "    <tr>\n",
       "      <th>7</th>\n",
       "      <td>8</td>\n",
       "      <td>2014-07-14</td>\n",
       "      <td>Falcon 9</td>\n",
       "      <td>1316.000000</td>\n",
       "      <td>LEO</td>\n",
       "      <td>CCAFS SLC 40</td>\n",
       "      <td>True Ocean</td>\n",
       "      <td>1</td>\n",
       "      <td>False</td>\n",
       "      <td>False</td>\n",
       "      <td>True</td>\n",
       "      <td>NaN</td>\n",
       "      <td>1.0</td>\n",
       "      <td>0</td>\n",
       "      <td>B1007</td>\n",
       "      <td>-80.577366</td>\n",
       "      <td>28.561857</td>\n",
       "    </tr>\n",
       "    <tr>\n",
       "      <th>8</th>\n",
       "      <td>9</td>\n",
       "      <td>2014-08-05</td>\n",
       "      <td>Falcon 9</td>\n",
       "      <td>4535.000000</td>\n",
       "      <td>GTO</td>\n",
       "      <td>CCAFS SLC 40</td>\n",
       "      <td>None None</td>\n",
       "      <td>1</td>\n",
       "      <td>False</td>\n",
       "      <td>False</td>\n",
       "      <td>False</td>\n",
       "      <td>NaN</td>\n",
       "      <td>1.0</td>\n",
       "      <td>0</td>\n",
       "      <td>B1008</td>\n",
       "      <td>-80.577366</td>\n",
       "      <td>28.561857</td>\n",
       "    </tr>\n",
       "    <tr>\n",
       "      <th>9</th>\n",
       "      <td>10</td>\n",
       "      <td>2014-09-07</td>\n",
       "      <td>Falcon 9</td>\n",
       "      <td>4428.000000</td>\n",
       "      <td>GTO</td>\n",
       "      <td>CCAFS SLC 40</td>\n",
       "      <td>None None</td>\n",
       "      <td>1</td>\n",
       "      <td>False</td>\n",
       "      <td>False</td>\n",
       "      <td>False</td>\n",
       "      <td>NaN</td>\n",
       "      <td>1.0</td>\n",
       "      <td>0</td>\n",
       "      <td>B1011</td>\n",
       "      <td>-80.577366</td>\n",
       "      <td>28.561857</td>\n",
       "    </tr>\n",
       "  </tbody>\n",
       "</table>\n",
       "</div>"
      ],
      "text/plain": [
       "   FlightNumber        Date BoosterVersion  PayloadMass Orbit    LaunchSite  \\\n",
       "0             1  2010-06-04       Falcon 9  6104.959412   LEO  CCAFS SLC 40   \n",
       "1             2  2012-05-22       Falcon 9   525.000000   LEO  CCAFS SLC 40   \n",
       "2             3  2013-03-01       Falcon 9   677.000000   ISS  CCAFS SLC 40   \n",
       "3             4  2013-09-29       Falcon 9   500.000000    PO   VAFB SLC 4E   \n",
       "4             5  2013-12-03       Falcon 9  3170.000000   GTO  CCAFS SLC 40   \n",
       "5             6  2014-01-06       Falcon 9  3325.000000   GTO  CCAFS SLC 40   \n",
       "6             7  2014-04-18       Falcon 9  2296.000000   ISS  CCAFS SLC 40   \n",
       "7             8  2014-07-14       Falcon 9  1316.000000   LEO  CCAFS SLC 40   \n",
       "8             9  2014-08-05       Falcon 9  4535.000000   GTO  CCAFS SLC 40   \n",
       "9            10  2014-09-07       Falcon 9  4428.000000   GTO  CCAFS SLC 40   \n",
       "\n",
       "       Outcome  Flights  GridFins  Reused   Legs LandingPad  Block  \\\n",
       "0    None None        1     False   False  False        NaN    1.0   \n",
       "1    None None        1     False   False  False        NaN    1.0   \n",
       "2    None None        1     False   False  False        NaN    1.0   \n",
       "3  False Ocean        1     False   False  False        NaN    1.0   \n",
       "4    None None        1     False   False  False        NaN    1.0   \n",
       "5    None None        1     False   False  False        NaN    1.0   \n",
       "6   True Ocean        1     False   False   True        NaN    1.0   \n",
       "7   True Ocean        1     False   False   True        NaN    1.0   \n",
       "8    None None        1     False   False  False        NaN    1.0   \n",
       "9    None None        1     False   False  False        NaN    1.0   \n",
       "\n",
       "   ReusedCount Serial   Longitude   Latitude  \n",
       "0            0  B0003  -80.577366  28.561857  \n",
       "1            0  B0005  -80.577366  28.561857  \n",
       "2            0  B0007  -80.577366  28.561857  \n",
       "3            0  B1003 -120.610829  34.632093  \n",
       "4            0  B1004  -80.577366  28.561857  \n",
       "5            0  B1005  -80.577366  28.561857  \n",
       "6            0  B1006  -80.577366  28.561857  \n",
       "7            0  B1007  -80.577366  28.561857  \n",
       "8            0  B1008  -80.577366  28.561857  \n",
       "9            0  B1011  -80.577366  28.561857  "
      ]
     },
     "execution_count": 4,
     "metadata": {},
     "output_type": "execute_result"
    }
   ],
   "source": [
    "df=pd.read_csv(\"https://cf-courses-data.s3.us.cloud-object-storage.appdomain.cloud/IBM-DS0321EN-SkillsNetwork/datasets/dataset_part_1.csv\")\n",
    "df.head(10)"
   ]
  },
  {
   "cell_type": "markdown",
   "id": "68f04865-9ca5-4c42-8fce-b28514453116",
   "metadata": {},
   "source": [
    "Identify and calculate the percentage of the missing values in each attribute\n"
   ]
  },
  {
   "cell_type": "code",
   "execution_count": 4,
   "id": "eab50dac-fb37-4579-a29f-c3309153d63a",
   "metadata": {},
   "outputs": [
    {
     "data": {
      "text/plain": [
       "FlightNumber       0.000000\n",
       "Date               0.000000\n",
       "BoosterVersion     0.000000\n",
       "PayloadMass        0.000000\n",
       "Orbit              0.000000\n",
       "LaunchSite         0.000000\n",
       "Outcome            0.000000\n",
       "Flights            0.000000\n",
       "GridFins           0.000000\n",
       "Reused             0.000000\n",
       "Legs               0.000000\n",
       "LandingPad        28.888889\n",
       "Block              0.000000\n",
       "ReusedCount        0.000000\n",
       "Serial             0.000000\n",
       "Longitude          0.000000\n",
       "Latitude           0.000000\n",
       "dtype: float64"
      ]
     },
     "execution_count": 4,
     "metadata": {},
     "output_type": "execute_result"
    }
   ],
   "source": [
    "df.isnull().sum()/len(df)*100"
   ]
  },
  {
   "cell_type": "markdown",
   "id": "f5e4bdfd-60f4-4993-8857-4a36f3baf54a",
   "metadata": {},
   "source": [
    "Identify which columns are numerical and categorical:\n"
   ]
  },
  {
   "cell_type": "code",
   "execution_count": 5,
   "metadata": {},
   "outputs": [
    {
     "name": "stdout",
     "output_type": "stream",
     "text": [
      "    FlightNumber        Date BoosterVersion   PayloadMass Orbit    LaunchSite  \\\n",
      "0              1  2010-06-04       Falcon 9   6104.959412   LEO  CCAFS SLC 40   \n",
      "1              2  2012-05-22       Falcon 9    525.000000   LEO  CCAFS SLC 40   \n",
      "2              3  2013-03-01       Falcon 9    677.000000   ISS  CCAFS SLC 40   \n",
      "3              4  2013-09-29       Falcon 9    500.000000    PO   VAFB SLC 4E   \n",
      "4              5  2013-12-03       Falcon 9   3170.000000   GTO  CCAFS SLC 40   \n",
      "..           ...         ...            ...           ...   ...           ...   \n",
      "85            86  2020-09-03       Falcon 9  15400.000000  VLEO    KSC LC 39A   \n",
      "86            87  2020-10-06       Falcon 9  15400.000000  VLEO    KSC LC 39A   \n",
      "87            88  2020-10-18       Falcon 9  15400.000000  VLEO    KSC LC 39A   \n",
      "88            89  2020-10-24       Falcon 9  15400.000000  VLEO  CCAFS SLC 40   \n",
      "89            90  2020-11-05       Falcon 9   3681.000000   MEO  CCAFS SLC 40   \n",
      "\n",
      "        Outcome  Flights  GridFins  Reused   Legs                LandingPad  \\\n",
      "0     None None        1     False   False  False                       NaN   \n",
      "1     None None        1     False   False  False                       NaN   \n",
      "2     None None        1     False   False  False                       NaN   \n",
      "3   False Ocean        1     False   False  False                       NaN   \n",
      "4     None None        1     False   False  False                       NaN   \n",
      "..          ...      ...       ...     ...    ...                       ...   \n",
      "85    True ASDS        2      True    True   True  5e9e3032383ecb6bb234e7ca   \n",
      "86    True ASDS        3      True    True   True  5e9e3032383ecb6bb234e7ca   \n",
      "87    True ASDS        6      True    True   True  5e9e3032383ecb6bb234e7ca   \n",
      "88    True ASDS        3      True    True   True  5e9e3033383ecbb9e534e7cc   \n",
      "89    True ASDS        1      True   False   True  5e9e3032383ecb6bb234e7ca   \n",
      "\n",
      "    Block  ReusedCount Serial   Longitude   Latitude  \n",
      "0     1.0            0  B0003  -80.577366  28.561857  \n",
      "1     1.0            0  B0005  -80.577366  28.561857  \n",
      "2     1.0            0  B0007  -80.577366  28.561857  \n",
      "3     1.0            0  B1003 -120.610829  34.632093  \n",
      "4     1.0            0  B1004  -80.577366  28.561857  \n",
      "..    ...          ...    ...         ...        ...  \n",
      "85    5.0            2  B1060  -80.603956  28.608058  \n",
      "86    5.0            2  B1058  -80.603956  28.608058  \n",
      "87    5.0            5  B1051  -80.603956  28.608058  \n",
      "88    5.0            2  B1060  -80.577366  28.561857  \n",
      "89    5.0            0  B1062  -80.577366  28.561857  \n",
      "\n",
      "[90 rows x 17 columns]\n"
     ]
    }
   ],
   "source": [
    "print(df)"
   ]
  },
  {
   "cell_type": "markdown",
   "id": "56b804d6-039b-49bf-80b5-9022ba72add5",
   "metadata": {},
   "source": [
    "### TASK 2: Calculate the number and occurrence of each orbit\n"
   ]
  },
  {
   "cell_type": "code",
   "execution_count": 6,
   "metadata": {},
   "outputs": [
    {
     "name": "stdout",
     "output_type": "stream",
     "text": [
      "Orbit\n",
      "GTO      27\n",
      "ISS      21\n",
      "VLEO     14\n",
      "PO        9\n",
      "LEO       7\n",
      "SSO       5\n",
      "MEO       3\n",
      "ES-L1     1\n",
      "HEO       1\n",
      "SO        1\n",
      "GEO       1\n",
      "Name: count, dtype: int64\n"
     ]
    }
   ],
   "source": [
    "# Calculate the number and occurrence of each orbit\n",
    "orbit_occurrences = df['Orbit'].value_counts()\n",
    "\n",
    "# Display the result\n",
    "print(orbit_occurrences)"
   ]
  },
  {
   "cell_type": "code",
   "execution_count": 7,
   "metadata": {},
   "outputs": [
    {
     "name": "stdout",
     "output_type": "stream",
     "text": [
      "    Orbit  Count\n",
      "0     GTO     27\n",
      "1     ISS     21\n",
      "2    VLEO     14\n",
      "3      PO      9\n",
      "4     LEO      7\n",
      "5     SSO      5\n",
      "6     MEO      3\n",
      "7   ES-L1      1\n",
      "8     HEO      1\n",
      "9      SO      1\n",
      "10    GEO      1\n"
     ]
    }
   ],
   "source": [
    "orbit_df = orbit_occurrences.reset_index()\n",
    "orbit_df.columns = ['Orbit', 'Count']\n",
    "print(orbit_df)"
   ]
  },
  {
   "cell_type": "code",
   "execution_count": null,
   "metadata": {},
   "outputs": [
    {
     "data": {
      "image/png": "[encoded data removed]",
      "text/plain": [
       "<Figure size 1000x600 with 1 Axes>"
      ]
     },
     "metadata": {},
     "output_type": "display_data"
    }
   ],
   "source": [
    "\n",
    "\n",
    "orbit_occurrences.plot(kind='bar', figsize=(10, 6))\n",
    "plt.title('Number and Occurrence of Each Orbit')\n",
    "plt.xlabel('Orbit')\n",
    "plt.ylabel('Count')\n",
    "plt.show()"
   ]
  },
  {
   "cell_type": "markdown",
   "id": "5c88f794-47d0-402e-9207-6afcacba825f",
   "metadata": {},
   "source": [
    "### TASK 3: Calculate the number and occurence of mission outcome of the orbits\n"
   ]
  },
  {
   "cell_type": "markdown",
   "id": "87cd458b-eb47-4eb8-bd0d-30a7047c94c6",
   "metadata": {},
   "source": [
    "Use the method <code>.value_counts()</code> on the column <code>Outcome</code> to determine the number of <code>landing_outcomes</code>.Then assign it to a variable landing_outcomes.\n"
   ]
  },
  {
   "cell_type": "code",
   "execution_count": 9,
   "id": "5de96f31-7282-441f-844c-9c2610d74921",
   "metadata": {},
   "outputs": [
    {
     "name": "stdout",
     "output_type": "stream",
     "text": [
      "    Orbit      Outcome  Count\n",
      "0   ES-L1   True Ocean      1\n",
      "1     GEO    True ASDS      1\n",
      "2     GTO   False ASDS      1\n",
      "3     GTO    None ASDS      1\n",
      "4     GTO    None None     11\n",
      "5     GTO    True ASDS     13\n",
      "6     GTO   True Ocean      1\n",
      "7     HEO    True ASDS      1\n",
      "8     ISS   False ASDS      2\n",
      "9     ISS  False Ocean      1\n",
      "10    ISS   False RTLS      1\n",
      "11    ISS    None ASDS      1\n",
      "12    ISS    None None      3\n",
      "13    ISS    True ASDS      5\n",
      "14    ISS   True Ocean      1\n",
      "15    ISS    True RTLS      7\n",
      "16    LEO    None None      2\n",
      "17    LEO   True Ocean      1\n",
      "18    LEO    True RTLS      4\n",
      "19    MEO    None None      1\n",
      "20    MEO    True ASDS      2\n",
      "21     PO   False ASDS      1\n",
      "22     PO  False Ocean      1\n",
      "23     PO    None None      1\n",
      "24     PO    True ASDS      5\n",
      "25     PO   True Ocean      1\n",
      "26     SO    None None      1\n",
      "27    SSO    True ASDS      2\n",
      "28    SSO    True RTLS      3\n",
      "29   VLEO   False ASDS      2\n",
      "30   VLEO    True ASDS     12\n",
      "Outcome  False ASDS  False Ocean  False RTLS  None ASDS  None None  True ASDS  \\\n",
      "Orbit                                                                           \n",
      "ES-L1           0.0          0.0         0.0        0.0        0.0        0.0   \n",
      "GEO             0.0          0.0         0.0        0.0        0.0        1.0   \n",
      "GTO             1.0          0.0         0.0        1.0       11.0       13.0   \n",
      "HEO             0.0          0.0         0.0        0.0        0.0        1.0   \n",
      "ISS             2.0          1.0         1.0        1.0        3.0        5.0   \n",
      "LEO             0.0          0.0         0.0        0.0        2.0        0.0   \n",
      "MEO             0.0          0.0         0.0        0.0        1.0        2.0   \n",
      "PO              1.0          1.0         0.0        0.0        1.0        5.0   \n",
      "SO              0.0          0.0         0.0        0.0        1.0        0.0   \n",
      "SSO             0.0          0.0         0.0        0.0        0.0        2.0   \n",
      "VLEO            2.0          0.0         0.0        0.0        0.0       12.0   \n",
      "\n",
      "Outcome  True Ocean  True RTLS  \n",
      "Orbit                           \n",
      "ES-L1           1.0        0.0  \n",
      "GEO             0.0        0.0  \n",
      "GTO             1.0        0.0  \n",
      "HEO             0.0        0.0  \n",
      "ISS             1.0        7.0  \n",
      "LEO             1.0        4.0  \n",
      "MEO             0.0        0.0  \n",
      "PO              1.0        0.0  \n",
      "SO              0.0        0.0  \n",
      "SSO             0.0        3.0  \n",
      "VLEO            0.0        0.0  \n"
     ]
    },
    {
     "data": {
      "image/png": "[encoded data removed]",
      "text/plain": [
       "<Figure size 1200x800 with 1 Axes>"
      ]
     },
     "metadata": {},
     "output_type": "display_data"
    }
   ],
   "source": [
    "\n",
    "mission_outcome_counts = df.groupby(['Orbit', 'Outcome']).size().reset_index(name='Count')\n",
    "print(mission_outcome_counts)\n",
    "\n",
    "pivot_data = mission_outcome_counts.pivot(index='Orbit', columns='Outcome', values='Count').fillna(0)\n",
    "print(pivot_data)\n",
    "\n",
    "# Visualize the data\n",
    "pivot_data.plot(kind='bar', stacked=True, figsize=(12, 8))\n",
    "plt.title('Number and Occurrence of Mission Outcomes for Each Orbit')\n",
    "plt.xlabel('Orbit')\n",
    "plt.ylabel('Count')\n",
    "plt.legend(title='Outcome')\n",
    "plt.grid(axis='y')\n",
    "plt.show()"
   ]
  },
  {
   "cell_type": "markdown",
   "id": "90c28aa2-b8ee-4653-b5ac-978fdee1c194",
   "metadata": {},
   "source": [
    "Using the <code>Outcome</code>,  create a list where the element is zero if the corresponding  row  in  <code>Outcome</code> is in the set <code>bad_outcome</code>; otherwise, it's one. Then assign it to the variable <code>landing_class</code>:\n"
   ]
  },
  {
   "cell_type": "markdown",
   "id": "65d61994-cb6d-4d4b-9966-661b3b291f50",
   "metadata": {},
   "source": [
    "We can now export it to a CSV for the next section,but to make the answers consistent, in the next lab we will provide data in a pre-selected date range.\n"
   ]
  }
 ],
 "metadata": {
  "kernelspec": {
   "display_name": "base",
   "language": "python",
   "name": "python3"
  },
  "language_info": {
   "codemirror_mode": {
    "name": "ipython",
    "version": 3
   },
   "file_extension": ".py",
   "mimetype": "text/x-python",
   "name": "python",
   "nbconvert_exporter": "python",
   "pygments_lexer": "ipython3",
   "version": "3.12.2"
  },
  "prev_pub_hash": "489c82f6b50cd749a6989b32709fa6722970710ac5090b645e53e7c8e87c0dd5"
 },
 "nbformat": 4,
 "nbformat_minor": 4
}
